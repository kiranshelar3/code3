{
 "cells": [
  {
   "cell_type": "code",
   "execution_count": 42,
   "metadata": {},
   "outputs": [],
   "source": [
    "import pandas as pd\n",
    "import seaborn as sns\n",
    "import numpy as np\n",
    "import matplotlib.pyplot as plt\n",
    "%matplotlib inline"
   ]
  },
  {
   "cell_type": "code",
   "execution_count": 43,
   "metadata": {},
   "outputs": [],
   "source": [
    "import math\n",
    "from glob import glob\n"
   ]
  },
  {
   "cell_type": "code",
   "execution_count": 44,
   "metadata": {},
   "outputs": [],
   "source": [
    "files= glob('*log') ##glob function for reading multiple files"
   ]
  },
  {
   "cell_type": "code",
   "execution_count": 45,
   "metadata": {},
   "outputs": [
    {
     "data": {
      "text/plain": [
       "['mem.log',\n",
       " 'mem10.log',\n",
       " 'mem11.log',\n",
       " 'mem12.log',\n",
       " 'mem13.log',\n",
       " 'mem14.log',\n",
       " 'mem15.log',\n",
       " 'mem16.log',\n",
       " 'mem17.log',\n",
       " 'mem18.log',\n",
       " 'mem19.log',\n",
       " 'mem2.log',\n",
       " 'mem20.log',\n",
       " 'mem21.log',\n",
       " 'mem22.log',\n",
       " 'mem23.log',\n",
       " 'mem24.log',\n",
       " 'mem25.log',\n",
       " 'mem26.log',\n",
       " 'mem27.log',\n",
       " 'mem28.log',\n",
       " 'mem29.log',\n",
       " 'mem3.log',\n",
       " 'mem30.log',\n",
       " 'mem31.log',\n",
       " 'mem33.log',\n",
       " 'mem34.log',\n",
       " 'mem35.log',\n",
       " 'mem36.log',\n",
       " 'mem5.log',\n",
       " 'mem8.log',\n",
       " 'mem9.log']"
      ]
     },
     "execution_count": 45,
     "metadata": {},
     "output_type": "execute_result"
    }
   ],
   "source": [
    "files"
   ]
  },
  {
   "cell_type": "code",
   "execution_count": 46,
   "metadata": {},
   "outputs": [],
   "source": [
    "df= pd.read_table('mem16.log', sep=(':')) "
   ]
  },
  {
   "cell_type": "code",
   "execution_count": 47,
   "metadata": {},
   "outputs": [
    {
     "data": {
      "text/html": [
       "<div>\n",
       "<style scoped>\n",
       "    .dataframe tbody tr th:only-of-type {\n",
       "        vertical-align: middle;\n",
       "    }\n",
       "\n",
       "    .dataframe tbody tr th {\n",
       "        vertical-align: top;\n",
       "    }\n",
       "\n",
       "    .dataframe thead th {\n",
       "        text-align: right;\n",
       "    }\n",
       "</style>\n",
       "<table border=\"1\" class=\"dataframe\">\n",
       "  <thead>\n",
       "    <tr style=\"text-align: right;\">\n",
       "      <th></th>\n",
       "      <th>Thu Feb 21 00:01:24 IST 2019</th>\n",
       "      <th>16384:3276:8:0.00:0.00:100G</th>\n",
       "    </tr>\n",
       "  </thead>\n",
       "  <tbody>\n",
       "    <tr>\n",
       "      <th>0</th>\n",
       "      <td>Thu Feb 21 00:14:21 IST 2019</td>\n",
       "      <td>16384:3276:8:0.00:0.00:100G</td>\n",
       "    </tr>\n",
       "    <tr>\n",
       "      <th>1</th>\n",
       "      <td>Thu Feb 21 00:27:25 IST 2019</td>\n",
       "      <td>16384:3275:8:0.00:0.00:100G</td>\n",
       "    </tr>\n",
       "    <tr>\n",
       "      <th>2</th>\n",
       "      <td>Thu Feb 21 00:40:20 IST 2019</td>\n",
       "      <td>16384:3276:8:0.00:0.00:100G</td>\n",
       "    </tr>\n",
       "    <tr>\n",
       "      <th>3</th>\n",
       "      <td>Thu Feb 21 00:53:11 IST 2019</td>\n",
       "      <td>16384:3276:8:0.00:0.00:100G</td>\n",
       "    </tr>\n",
       "    <tr>\n",
       "      <th>4</th>\n",
       "      <td>Thu Feb 21 01:06:08 IST 2019</td>\n",
       "      <td>16384:3276:8:0.00:0.00:100G</td>\n",
       "    </tr>\n",
       "    <tr>\n",
       "      <th>...</th>\n",
       "      <td>...</td>\n",
       "      <td>...</td>\n",
       "    </tr>\n",
       "    <tr>\n",
       "      <th>2152</th>\n",
       "      <td>Thu Mar 14 13:58:41 IST 2019</td>\n",
       "      <td>16384:3276:8:0.00:0.00:100G</td>\n",
       "    </tr>\n",
       "    <tr>\n",
       "      <th>2153</th>\n",
       "      <td>Thu Mar 14 14:13:02 IST 2019</td>\n",
       "      <td>16384:3276:8:0.00:0.00:100G</td>\n",
       "    </tr>\n",
       "    <tr>\n",
       "      <th>2154</th>\n",
       "      <td>Thu Mar 14 14:27:49 IST 2019</td>\n",
       "      <td>16384:3275:8:0.00:0.00:100G</td>\n",
       "    </tr>\n",
       "    <tr>\n",
       "      <th>2155</th>\n",
       "      <td>Thu Mar 14 14:41:40 IST 2019</td>\n",
       "      <td>16384:3276:8:0.00:0.00:100G</td>\n",
       "    </tr>\n",
       "    <tr>\n",
       "      <th>2156</th>\n",
       "      <td>Thu Mar 14 14:55:51 IST 2019</td>\n",
       "      <td>16384:3275:8:0.00:0.00:100G</td>\n",
       "    </tr>\n",
       "  </tbody>\n",
       "</table>\n",
       "<p>2157 rows × 2 columns</p>\n",
       "</div>"
      ],
      "text/plain": [
       "      Thu Feb 21 00:01:24 IST 2019  16384:3276:8:0.00:0.00:100G\n",
       "0     Thu Feb 21 00:14:21 IST 2019  16384:3276:8:0.00:0.00:100G\n",
       "1     Thu Feb 21 00:27:25 IST 2019  16384:3275:8:0.00:0.00:100G\n",
       "2     Thu Feb 21 00:40:20 IST 2019  16384:3276:8:0.00:0.00:100G\n",
       "3     Thu Feb 21 00:53:11 IST 2019  16384:3276:8:0.00:0.00:100G\n",
       "4     Thu Feb 21 01:06:08 IST 2019  16384:3276:8:0.00:0.00:100G\n",
       "...                            ...                          ...\n",
       "2152  Thu Mar 14 13:58:41 IST 2019  16384:3276:8:0.00:0.00:100G\n",
       "2153  Thu Mar 14 14:13:02 IST 2019  16384:3276:8:0.00:0.00:100G\n",
       "2154  Thu Mar 14 14:27:49 IST 2019  16384:3275:8:0.00:0.00:100G\n",
       "2155  Thu Mar 14 14:41:40 IST 2019  16384:3276:8:0.00:0.00:100G\n",
       "2156  Thu Mar 14 14:55:51 IST 2019  16384:3275:8:0.00:0.00:100G\n",
       "\n",
       "[2157 rows x 2 columns]"
      ]
     },
     "execution_count": 47,
     "metadata": {},
     "output_type": "execute_result"
    }
   ],
   "source": [
    "df"
   ]
  },
  {
   "cell_type": "code",
   "execution_count": 48,
   "metadata": {},
   "outputs": [],
   "source": [
    "df.columns=['Date','log']"
   ]
  },
  {
   "cell_type": "code",
   "execution_count": 49,
   "metadata": {},
   "outputs": [
    {
     "data": {
      "text/html": [
       "<div>\n",
       "<style scoped>\n",
       "    .dataframe tbody tr th:only-of-type {\n",
       "        vertical-align: middle;\n",
       "    }\n",
       "\n",
       "    .dataframe tbody tr th {\n",
       "        vertical-align: top;\n",
       "    }\n",
       "\n",
       "    .dataframe thead th {\n",
       "        text-align: right;\n",
       "    }\n",
       "</style>\n",
       "<table border=\"1\" class=\"dataframe\">\n",
       "  <thead>\n",
       "    <tr style=\"text-align: right;\">\n",
       "      <th></th>\n",
       "      <th>Date</th>\n",
       "      <th>log</th>\n",
       "    </tr>\n",
       "  </thead>\n",
       "  <tbody>\n",
       "    <tr>\n",
       "      <th>0</th>\n",
       "      <td>Thu Feb 21 00:14:21 IST 2019</td>\n",
       "      <td>16384:3276:8:0.00:0.00:100G</td>\n",
       "    </tr>\n",
       "    <tr>\n",
       "      <th>1</th>\n",
       "      <td>Thu Feb 21 00:27:25 IST 2019</td>\n",
       "      <td>16384:3275:8:0.00:0.00:100G</td>\n",
       "    </tr>\n",
       "    <tr>\n",
       "      <th>2</th>\n",
       "      <td>Thu Feb 21 00:40:20 IST 2019</td>\n",
       "      <td>16384:3276:8:0.00:0.00:100G</td>\n",
       "    </tr>\n",
       "    <tr>\n",
       "      <th>3</th>\n",
       "      <td>Thu Feb 21 00:53:11 IST 2019</td>\n",
       "      <td>16384:3276:8:0.00:0.00:100G</td>\n",
       "    </tr>\n",
       "    <tr>\n",
       "      <th>4</th>\n",
       "      <td>Thu Feb 21 01:06:08 IST 2019</td>\n",
       "      <td>16384:3276:8:0.00:0.00:100G</td>\n",
       "    </tr>\n",
       "  </tbody>\n",
       "</table>\n",
       "</div>"
      ],
      "text/plain": [
       "                           Date                          log\n",
       "0  Thu Feb 21 00:14:21 IST 2019  16384:3276:8:0.00:0.00:100G\n",
       "1  Thu Feb 21 00:27:25 IST 2019  16384:3275:8:0.00:0.00:100G\n",
       "2  Thu Feb 21 00:40:20 IST 2019  16384:3276:8:0.00:0.00:100G\n",
       "3  Thu Feb 21 00:53:11 IST 2019  16384:3276:8:0.00:0.00:100G\n",
       "4  Thu Feb 21 01:06:08 IST 2019  16384:3276:8:0.00:0.00:100G"
      ]
     },
     "execution_count": 49,
     "metadata": {},
     "output_type": "execute_result"
    }
   ],
   "source": [
    "df.head()"
   ]
  },
  {
   "cell_type": "code",
   "execution_count": 50,
   "metadata": {},
   "outputs": [
    {
     "name": "stderr",
     "output_type": "stream",
     "text": [
      "C:\\Users\\Ghoshan\\anaconda3\\lib\\site-packages\\dateutil\\parser\\_parser.py:1213: UnknownTimezoneWarning: tzname IST identified but not understood.  Pass `tzinfos` argument in order to correctly return a timezone-aware datetime.  In a future version, this will raise an exception.\n",
      "  warnings.warn(\"tzname {tzname} identified but not understood.  \"\n"
     ]
    }
   ],
   "source": [
    "df['Date'] = pd.to_datetime(df['Date'])"
   ]
  },
  {
   "cell_type": "code",
   "execution_count": 51,
   "metadata": {},
   "outputs": [],
   "source": [
    "df.set_index('Date', inplace=True)"
   ]
  },
  {
   "cell_type": "code",
   "execution_count": 52,
   "metadata": {},
   "outputs": [
    {
     "data": {
      "text/html": [
       "<div>\n",
       "<style scoped>\n",
       "    .dataframe tbody tr th:only-of-type {\n",
       "        vertical-align: middle;\n",
       "    }\n",
       "\n",
       "    .dataframe tbody tr th {\n",
       "        vertical-align: top;\n",
       "    }\n",
       "\n",
       "    .dataframe thead th {\n",
       "        text-align: right;\n",
       "    }\n",
       "</style>\n",
       "<table border=\"1\" class=\"dataframe\">\n",
       "  <thead>\n",
       "    <tr style=\"text-align: right;\">\n",
       "      <th></th>\n",
       "      <th>log</th>\n",
       "    </tr>\n",
       "    <tr>\n",
       "      <th>Date</th>\n",
       "      <th></th>\n",
       "    </tr>\n",
       "  </thead>\n",
       "  <tbody>\n",
       "    <tr>\n",
       "      <th>2019-02-21 00:14:21</th>\n",
       "      <td>16384:3276:8:0.00:0.00:100G</td>\n",
       "    </tr>\n",
       "    <tr>\n",
       "      <th>2019-02-21 00:27:25</th>\n",
       "      <td>16384:3275:8:0.00:0.00:100G</td>\n",
       "    </tr>\n",
       "    <tr>\n",
       "      <th>2019-02-21 00:40:20</th>\n",
       "      <td>16384:3276:8:0.00:0.00:100G</td>\n",
       "    </tr>\n",
       "    <tr>\n",
       "      <th>2019-02-21 00:53:11</th>\n",
       "      <td>16384:3276:8:0.00:0.00:100G</td>\n",
       "    </tr>\n",
       "    <tr>\n",
       "      <th>2019-02-21 01:06:08</th>\n",
       "      <td>16384:3276:8:0.00:0.00:100G</td>\n",
       "    </tr>\n",
       "    <tr>\n",
       "      <th>...</th>\n",
       "      <td>...</td>\n",
       "    </tr>\n",
       "    <tr>\n",
       "      <th>2019-03-14 13:58:41</th>\n",
       "      <td>16384:3276:8:0.00:0.00:100G</td>\n",
       "    </tr>\n",
       "    <tr>\n",
       "      <th>2019-03-14 14:13:02</th>\n",
       "      <td>16384:3276:8:0.00:0.00:100G</td>\n",
       "    </tr>\n",
       "    <tr>\n",
       "      <th>2019-03-14 14:27:49</th>\n",
       "      <td>16384:3275:8:0.00:0.00:100G</td>\n",
       "    </tr>\n",
       "    <tr>\n",
       "      <th>2019-03-14 14:41:40</th>\n",
       "      <td>16384:3276:8:0.00:0.00:100G</td>\n",
       "    </tr>\n",
       "    <tr>\n",
       "      <th>2019-03-14 14:55:51</th>\n",
       "      <td>16384:3275:8:0.00:0.00:100G</td>\n",
       "    </tr>\n",
       "  </tbody>\n",
       "</table>\n",
       "<p>2157 rows × 1 columns</p>\n",
       "</div>"
      ],
      "text/plain": [
       "                                             log\n",
       "Date                                            \n",
       "2019-02-21 00:14:21  16384:3276:8:0.00:0.00:100G\n",
       "2019-02-21 00:27:25  16384:3275:8:0.00:0.00:100G\n",
       "2019-02-21 00:40:20  16384:3276:8:0.00:0.00:100G\n",
       "2019-02-21 00:53:11  16384:3276:8:0.00:0.00:100G\n",
       "2019-02-21 01:06:08  16384:3276:8:0.00:0.00:100G\n",
       "...                                          ...\n",
       "2019-03-14 13:58:41  16384:3276:8:0.00:0.00:100G\n",
       "2019-03-14 14:13:02  16384:3276:8:0.00:0.00:100G\n",
       "2019-03-14 14:27:49  16384:3275:8:0.00:0.00:100G\n",
       "2019-03-14 14:41:40  16384:3276:8:0.00:0.00:100G\n",
       "2019-03-14 14:55:51  16384:3275:8:0.00:0.00:100G\n",
       "\n",
       "[2157 rows x 1 columns]"
      ]
     },
     "execution_count": 52,
     "metadata": {},
     "output_type": "execute_result"
    }
   ],
   "source": [
    "df"
   ]
  },
  {
   "cell_type": "code",
   "execution_count": 53,
   "metadata": {},
   "outputs": [
    {
     "data": {
      "text/html": [
       "<div>\n",
       "<style scoped>\n",
       "    .dataframe tbody tr th:only-of-type {\n",
       "        vertical-align: middle;\n",
       "    }\n",
       "\n",
       "    .dataframe tbody tr th {\n",
       "        vertical-align: top;\n",
       "    }\n",
       "\n",
       "    .dataframe thead th {\n",
       "        text-align: right;\n",
       "    }\n",
       "</style>\n",
       "<table border=\"1\" class=\"dataframe\">\n",
       "  <thead>\n",
       "    <tr style=\"text-align: right;\">\n",
       "      <th></th>\n",
       "      <th>log</th>\n",
       "    </tr>\n",
       "  </thead>\n",
       "  <tbody>\n",
       "    <tr>\n",
       "      <th>count</th>\n",
       "      <td>2157</td>\n",
       "    </tr>\n",
       "    <tr>\n",
       "      <th>unique</th>\n",
       "      <td>5</td>\n",
       "    </tr>\n",
       "    <tr>\n",
       "      <th>top</th>\n",
       "      <td>16384:3275:8:0.00:0.00:100G</td>\n",
       "    </tr>\n",
       "    <tr>\n",
       "      <th>freq</th>\n",
       "      <td>1236</td>\n",
       "    </tr>\n",
       "  </tbody>\n",
       "</table>\n",
       "</div>"
      ],
      "text/plain": [
       "                                log\n",
       "count                          2157\n",
       "unique                            5\n",
       "top     16384:3275:8:0.00:0.00:100G\n",
       "freq                           1236"
      ]
     },
     "execution_count": 53,
     "metadata": {},
     "output_type": "execute_result"
    }
   ],
   "source": [
    "df.describe()"
   ]
  },
  {
   "cell_type": "code",
   "execution_count": 54,
   "metadata": {},
   "outputs": [
    {
     "name": "stdout",
     "output_type": "stream",
     "text": [
      "<class 'pandas.core.frame.DataFrame'>\n",
      "DatetimeIndex: 2157 entries, 2019-02-21 00:14:21 to 2019-03-14 14:55:51\n",
      "Data columns (total 1 columns):\n",
      " #   Column  Non-Null Count  Dtype \n",
      "---  ------  --------------  ----- \n",
      " 0   log     2157 non-null   object\n",
      "dtypes: object(1)\n",
      "memory usage: 33.7+ KB\n"
     ]
    }
   ],
   "source": [
    "df.info()"
   ]
  },
  {
   "cell_type": "code",
   "execution_count": 55,
   "metadata": {},
   "outputs": [
    {
     "data": {
      "text/plain": [
       "log    object\n",
       "dtype: object"
      ]
     },
     "execution_count": 55,
     "metadata": {},
     "output_type": "execute_result"
    }
   ],
   "source": [
    "df.dtypes"
   ]
  },
  {
   "cell_type": "code",
   "execution_count": 56,
   "metadata": {},
   "outputs": [
    {
     "data": {
      "text/plain": [
       "array(['16384:3276:8:0.00:0.00:100G', '16384:3275:8:0.00:0.00:100G',\n",
       "       '16384:3277:8:0.00:0.00:100G', '16384:3275:8:0.01:0.00:100G',\n",
       "       '16384:3276:8:0.01:0.00:100G'], dtype=object)"
      ]
     },
     "execution_count": 56,
     "metadata": {},
     "output_type": "execute_result"
    }
   ],
   "source": [
    "df.log.unique()"
   ]
  },
  {
   "cell_type": "code",
   "execution_count": 57,
   "metadata": {},
   "outputs": [
    {
     "data": {
      "text/plain": [
       "16384:3275:8:0.00:0.00:100G    1236\n",
       "16384:3276:8:0.00:0.00:100G     914\n",
       "16384:3276:8:0.01:0.00:100G       4\n",
       "16384:3275:8:0.01:0.00:100G       2\n",
       "16384:3277:8:0.00:0.00:100G       1\n",
       "Name: log, dtype: int64"
      ]
     },
     "execution_count": 57,
     "metadata": {},
     "output_type": "execute_result"
    }
   ],
   "source": [
    "df['log'].value_counts()"
   ]
  },
  {
   "cell_type": "code",
   "execution_count": 58,
   "metadata": {},
   "outputs": [
    {
     "data": {
      "text/html": [
       "<div>\n",
       "<style scoped>\n",
       "    .dataframe tbody tr th:only-of-type {\n",
       "        vertical-align: middle;\n",
       "    }\n",
       "\n",
       "    .dataframe tbody tr th {\n",
       "        vertical-align: top;\n",
       "    }\n",
       "\n",
       "    .dataframe thead th {\n",
       "        text-align: right;\n",
       "    }\n",
       "</style>\n",
       "<table border=\"1\" class=\"dataframe\">\n",
       "  <thead>\n",
       "    <tr style=\"text-align: right;\">\n",
       "      <th></th>\n",
       "      <th>log</th>\n",
       "    </tr>\n",
       "    <tr>\n",
       "      <th>Date</th>\n",
       "      <th></th>\n",
       "    </tr>\n",
       "  </thead>\n",
       "  <tbody>\n",
       "    <tr>\n",
       "      <th>2019-02-21 00:14:21</th>\n",
       "      <td>False</td>\n",
       "    </tr>\n",
       "    <tr>\n",
       "      <th>2019-02-21 00:27:25</th>\n",
       "      <td>False</td>\n",
       "    </tr>\n",
       "    <tr>\n",
       "      <th>2019-02-21 00:40:20</th>\n",
       "      <td>False</td>\n",
       "    </tr>\n",
       "    <tr>\n",
       "      <th>2019-02-21 00:53:11</th>\n",
       "      <td>False</td>\n",
       "    </tr>\n",
       "    <tr>\n",
       "      <th>2019-02-21 01:06:08</th>\n",
       "      <td>False</td>\n",
       "    </tr>\n",
       "    <tr>\n",
       "      <th>...</th>\n",
       "      <td>...</td>\n",
       "    </tr>\n",
       "    <tr>\n",
       "      <th>2019-03-14 13:58:41</th>\n",
       "      <td>False</td>\n",
       "    </tr>\n",
       "    <tr>\n",
       "      <th>2019-03-14 14:13:02</th>\n",
       "      <td>False</td>\n",
       "    </tr>\n",
       "    <tr>\n",
       "      <th>2019-03-14 14:27:49</th>\n",
       "      <td>False</td>\n",
       "    </tr>\n",
       "    <tr>\n",
       "      <th>2019-03-14 14:41:40</th>\n",
       "      <td>False</td>\n",
       "    </tr>\n",
       "    <tr>\n",
       "      <th>2019-03-14 14:55:51</th>\n",
       "      <td>False</td>\n",
       "    </tr>\n",
       "  </tbody>\n",
       "</table>\n",
       "<p>2157 rows × 1 columns</p>\n",
       "</div>"
      ],
      "text/plain": [
       "                       log\n",
       "Date                      \n",
       "2019-02-21 00:14:21  False\n",
       "2019-02-21 00:27:25  False\n",
       "2019-02-21 00:40:20  False\n",
       "2019-02-21 00:53:11  False\n",
       "2019-02-21 01:06:08  False\n",
       "...                    ...\n",
       "2019-03-14 13:58:41  False\n",
       "2019-03-14 14:13:02  False\n",
       "2019-03-14 14:27:49  False\n",
       "2019-03-14 14:41:40  False\n",
       "2019-03-14 14:55:51  False\n",
       "\n",
       "[2157 rows x 1 columns]"
      ]
     },
     "execution_count": 58,
     "metadata": {},
     "output_type": "execute_result"
    }
   ],
   "source": [
    "df.isnull()"
   ]
  },
  {
   "cell_type": "code",
   "execution_count": 59,
   "metadata": {},
   "outputs": [],
   "source": [
    "df=df.dropna()"
   ]
  },
  {
   "cell_type": "code",
   "execution_count": 60,
   "metadata": {},
   "outputs": [
    {
     "data": {
      "text/html": [
       "<div>\n",
       "<style scoped>\n",
       "    .dataframe tbody tr th:only-of-type {\n",
       "        vertical-align: middle;\n",
       "    }\n",
       "\n",
       "    .dataframe tbody tr th {\n",
       "        vertical-align: top;\n",
       "    }\n",
       "\n",
       "    .dataframe thead th {\n",
       "        text-align: right;\n",
       "    }\n",
       "</style>\n",
       "<table border=\"1\" class=\"dataframe\">\n",
       "  <thead>\n",
       "    <tr style=\"text-align: right;\">\n",
       "      <th></th>\n",
       "      <th>log</th>\n",
       "    </tr>\n",
       "    <tr>\n",
       "      <th>Date</th>\n",
       "      <th></th>\n",
       "    </tr>\n",
       "  </thead>\n",
       "  <tbody>\n",
       "    <tr>\n",
       "      <th>2019-02-21 00:14:21</th>\n",
       "      <td>16384:3276:8:0.00:0.00:100G</td>\n",
       "    </tr>\n",
       "    <tr>\n",
       "      <th>2019-02-21 00:27:25</th>\n",
       "      <td>16384:3275:8:0.00:0.00:100G</td>\n",
       "    </tr>\n",
       "    <tr>\n",
       "      <th>2019-02-21 00:40:20</th>\n",
       "      <td>16384:3276:8:0.00:0.00:100G</td>\n",
       "    </tr>\n",
       "    <tr>\n",
       "      <th>2019-02-21 00:53:11</th>\n",
       "      <td>16384:3276:8:0.00:0.00:100G</td>\n",
       "    </tr>\n",
       "    <tr>\n",
       "      <th>2019-02-21 01:06:08</th>\n",
       "      <td>16384:3276:8:0.00:0.00:100G</td>\n",
       "    </tr>\n",
       "    <tr>\n",
       "      <th>...</th>\n",
       "      <td>...</td>\n",
       "    </tr>\n",
       "    <tr>\n",
       "      <th>2019-03-14 13:58:41</th>\n",
       "      <td>16384:3276:8:0.00:0.00:100G</td>\n",
       "    </tr>\n",
       "    <tr>\n",
       "      <th>2019-03-14 14:13:02</th>\n",
       "      <td>16384:3276:8:0.00:0.00:100G</td>\n",
       "    </tr>\n",
       "    <tr>\n",
       "      <th>2019-03-14 14:27:49</th>\n",
       "      <td>16384:3275:8:0.00:0.00:100G</td>\n",
       "    </tr>\n",
       "    <tr>\n",
       "      <th>2019-03-14 14:41:40</th>\n",
       "      <td>16384:3276:8:0.00:0.00:100G</td>\n",
       "    </tr>\n",
       "    <tr>\n",
       "      <th>2019-03-14 14:55:51</th>\n",
       "      <td>16384:3275:8:0.00:0.00:100G</td>\n",
       "    </tr>\n",
       "  </tbody>\n",
       "</table>\n",
       "<p>2157 rows × 1 columns</p>\n",
       "</div>"
      ],
      "text/plain": [
       "                                             log\n",
       "Date                                            \n",
       "2019-02-21 00:14:21  16384:3276:8:0.00:0.00:100G\n",
       "2019-02-21 00:27:25  16384:3275:8:0.00:0.00:100G\n",
       "2019-02-21 00:40:20  16384:3276:8:0.00:0.00:100G\n",
       "2019-02-21 00:53:11  16384:3276:8:0.00:0.00:100G\n",
       "2019-02-21 01:06:08  16384:3276:8:0.00:0.00:100G\n",
       "...                                          ...\n",
       "2019-03-14 13:58:41  16384:3276:8:0.00:0.00:100G\n",
       "2019-03-14 14:13:02  16384:3276:8:0.00:0.00:100G\n",
       "2019-03-14 14:27:49  16384:3275:8:0.00:0.00:100G\n",
       "2019-03-14 14:41:40  16384:3276:8:0.00:0.00:100G\n",
       "2019-03-14 14:55:51  16384:3275:8:0.00:0.00:100G\n",
       "\n",
       "[2157 rows x 1 columns]"
      ]
     },
     "execution_count": 60,
     "metadata": {},
     "output_type": "execute_result"
    }
   ],
   "source": [
    "df"
   ]
  },
  {
   "cell_type": "code",
   "execution_count": 61,
   "metadata": {},
   "outputs": [
    {
     "data": {
      "text/plain": [
       "Index(['log'], dtype='object')"
      ]
     },
     "execution_count": 61,
     "metadata": {},
     "output_type": "execute_result"
    }
   ],
   "source": [
    "df.columns"
   ]
  },
  {
   "cell_type": "code",
   "execution_count": 62,
   "metadata": {},
   "outputs": [
    {
     "data": {
      "text/html": [
       "<div>\n",
       "<style scoped>\n",
       "    .dataframe tbody tr th:only-of-type {\n",
       "        vertical-align: middle;\n",
       "    }\n",
       "\n",
       "    .dataframe tbody tr th {\n",
       "        vertical-align: top;\n",
       "    }\n",
       "\n",
       "    .dataframe thead th {\n",
       "        text-align: right;\n",
       "    }\n",
       "</style>\n",
       "<table border=\"1\" class=\"dataframe\">\n",
       "  <thead>\n",
       "    <tr style=\"text-align: right;\">\n",
       "      <th></th>\n",
       "      <th>log</th>\n",
       "    </tr>\n",
       "    <tr>\n",
       "      <th>Date</th>\n",
       "      <th></th>\n",
       "    </tr>\n",
       "  </thead>\n",
       "  <tbody>\n",
       "    <tr>\n",
       "      <th>2019-02-21 00:14:21</th>\n",
       "      <td>16384:3276:8:0.00:0.00:100G</td>\n",
       "    </tr>\n",
       "    <tr>\n",
       "      <th>2019-02-21 00:27:25</th>\n",
       "      <td>16384:3275:8:0.00:0.00:100G</td>\n",
       "    </tr>\n",
       "    <tr>\n",
       "      <th>2019-02-21 00:40:20</th>\n",
       "      <td>16384:3276:8:0.00:0.00:100G</td>\n",
       "    </tr>\n",
       "    <tr>\n",
       "      <th>2019-02-21 00:53:11</th>\n",
       "      <td>16384:3276:8:0.00:0.00:100G</td>\n",
       "    </tr>\n",
       "    <tr>\n",
       "      <th>2019-02-21 01:06:08</th>\n",
       "      <td>16384:3276:8:0.00:0.00:100G</td>\n",
       "    </tr>\n",
       "  </tbody>\n",
       "</table>\n",
       "</div>"
      ],
      "text/plain": [
       "                                             log\n",
       "Date                                            \n",
       "2019-02-21 00:14:21  16384:3276:8:0.00:0.00:100G\n",
       "2019-02-21 00:27:25  16384:3275:8:0.00:0.00:100G\n",
       "2019-02-21 00:40:20  16384:3276:8:0.00:0.00:100G\n",
       "2019-02-21 00:53:11  16384:3276:8:0.00:0.00:100G\n",
       "2019-02-21 01:06:08  16384:3276:8:0.00:0.00:100G"
      ]
     },
     "execution_count": 62,
     "metadata": {},
     "output_type": "execute_result"
    }
   ],
   "source": [
    "df.head()"
   ]
  },
  {
   "cell_type": "code",
   "execution_count": null,
   "metadata": {},
   "outputs": [],
   "source": []
  },
  {
   "cell_type": "code",
   "execution_count": 63,
   "metadata": {},
   "outputs": [],
   "source": [
    "x=['Date']\n",
    "y=['log']"
   ]
  },
  {
   "cell_type": "code",
   "execution_count": 64,
   "metadata": {},
   "outputs": [
    {
     "data": {
      "text/plain": [
       "[<matplotlib.lines.Line2D at 0x216f1c21070>]"
      ]
     },
     "execution_count": 64,
     "metadata": {},
     "output_type": "execute_result"
    },
    {
     "data": {
      "image/png": "[encoded data removed]",
      "text/plain": [
       "<Figure size 432x288 with 1 Axes>"
      ]
     },
     "metadata": {
      "needs_background": "light"
     },
     "output_type": "display_data"
    }
   ],
   "source": [
    "x = np.linspace(0, 10, 100)\n",
    "fig=plt.figure()\n",
    "plt.plot(x,np.sin(x), '-')\n",
    "plt.plot(x,np.cos(x), '--')\n"
   ]
  },
  {
   "cell_type": "code",
   "execution_count": 65,
   "metadata": {},
   "outputs": [
    {
     "data": {
      "text/plain": [
       "[<matplotlib.lines.Line2D at 0x216f1c140a0>]"
      ]
     },
     "execution_count": 65,
     "metadata": {},
     "output_type": "execute_result"
    },
    {
     "data": {
      "image/png": "[encoded data removed]",
      "text/plain": [
       "<Figure size 432x288 with 1 Axes>"
      ]
     },
     "metadata": {
      "needs_background": "light"
     },
     "output_type": "display_data"
    }
   ],
   "source": [
    "plt.plot(df['log'])"
   ]
  },
  {
   "cell_type": "code",
   "execution_count": 83,
   "metadata": {},
   "outputs": [
    {
     "name": "stdout",
     "output_type": "stream",
     "text": [
      "Requirement already satisfied: statsmodels in c:\\users\\ghoshan\\anaconda3\\lib\\site-packages (0.12.2)\n",
      "Requirement already satisfied: numpy>=1.15 in c:\\users\\ghoshan\\anaconda3\\lib\\site-packages (from statsmodels) (1.19.2)\n",
      "Requirement already satisfied: pandas>=0.21 in c:\\users\\ghoshan\\anaconda3\\lib\\site-packages (from statsmodels) (1.1.3)\n",
      "Requirement already satisfied: scipy>=1.1 in c:\\users\\ghoshan\\anaconda3\\lib\\site-packages (from statsmodels) (1.5.2)\n",
      "Requirement already satisfied: patsy>=0.5 in c:\\users\\ghoshan\\anaconda3\\lib\\site-packages (from statsmodels) (0.5.1)\n",
      "Requirement already satisfied: python-dateutil>=2.7.3 in c:\\users\\ghoshan\\anaconda3\\lib\\site-packages (from pandas>=0.21->statsmodels) (2.8.1)\n",
      "Requirement already satisfied: pytz>=2017.2 in c:\\users\\ghoshan\\anaconda3\\lib\\site-packages (from pandas>=0.21->statsmodels) (2020.1)\n",
      "Requirement already satisfied: six in c:\\users\\ghoshan\\anaconda3\\lib\\site-packages (from patsy>=0.5->statsmodels) (1.15.0)\n",
      "Note: you may need to restart the kernel to use updated packages.\n"
     ]
    }
   ],
   "source": [
    "pip install statsmodels"
   ]
  },
  {
   "cell_type": "code",
   "execution_count": 84,
   "metadata": {},
   "outputs": [],
   "source": [
    "from statsmodels.tsa.ar_model import AutoReg"
   ]
  },
  {
   "cell_type": "code",
   "execution_count": 85,
   "metadata": {},
   "outputs": [],
   "source": [
    "from statsmodels.tsa.stattools import adfuller"
   ]
  },
  {
   "cell_type": "code",
   "execution_count": 86,
   "metadata": {},
   "outputs": [
    {
     "data": {
      "text/plain": [
       "dtype('O')"
      ]
     },
     "execution_count": 86,
     "metadata": {},
     "output_type": "execute_result"
    }
   ],
   "source": [
    "df['log'].dtypes"
   ]
  },
  {
   "cell_type": "code",
   "execution_count": null,
   "metadata": {},
   "outputs": [],
   "source": []
  },
  {
   "cell_type": "code",
   "execution_count": 87,
   "metadata": {},
   "outputs": [
    {
     "data": {
      "text/plain": [
       "log    object\n",
       "dtype: object"
      ]
     },
     "execution_count": 87,
     "metadata": {},
     "output_type": "execute_result"
    }
   ],
   "source": [
    "df.dtypes"
   ]
  },
  {
   "cell_type": "code",
   "execution_count": 88,
   "metadata": {},
   "outputs": [],
   "source": [
    "adfuller=df['log']"
   ]
  },
  {
   "cell_type": "code",
   "execution_count": 89,
   "metadata": {},
   "outputs": [],
   "source": [
    "test_result=adfuller"
   ]
  },
  {
   "cell_type": "code",
   "execution_count": 90,
   "metadata": {},
   "outputs": [],
   "source": [
    "def adfuller_test(log):\n",
    "    result=adfuller(log)\n",
    "    labels=['A test statistics', 'p-value', '#lagused', 'no of observations used']\n",
    "    for value, labels in zip (result,labels):\n",
    "        print(label+':'+ str(values))\n",
    "    if result[1]<=0.05:\n",
    "        print('evidence against null hypothesis')\n",
    "    else:\n",
    "        print(\"weak evidence against null hypothesis\")"
   ]
  },
  {
   "cell_type": "code",
   "execution_count": 91,
   "metadata": {},
   "outputs": [
    {
     "ename": "TypeError",
     "evalue": "'Series' object is not callable",
     "output_type": "error",
     "traceback": [
      "\u001b[1;31m---------------------------------------------------------------------------\u001b[0m",
      "\u001b[1;31mTypeError\u001b[0m                                 Traceback (most recent call last)",
      "\u001b[1;32m<ipython-input-91-976ae67c92af>\u001b[0m in \u001b[0;36m<module>\u001b[1;34m\u001b[0m\n\u001b[1;32m----> 1\u001b[1;33m \u001b[0madfuller_test\u001b[0m\u001b[1;33m(\u001b[0m\u001b[0mdf\u001b[0m\u001b[1;33m[\u001b[0m\u001b[1;34m'log'\u001b[0m\u001b[1;33m]\u001b[0m\u001b[1;33m)\u001b[0m\u001b[1;33m\u001b[0m\u001b[1;33m\u001b[0m\u001b[0m\n\u001b[0m",
      "\u001b[1;32m<ipython-input-90-314bf9ad6ec9>\u001b[0m in \u001b[0;36madfuller_test\u001b[1;34m(log)\u001b[0m\n\u001b[0;32m      1\u001b[0m \u001b[1;32mdef\u001b[0m \u001b[0madfuller_test\u001b[0m\u001b[1;33m(\u001b[0m\u001b[0mlog\u001b[0m\u001b[1;33m)\u001b[0m\u001b[1;33m:\u001b[0m\u001b[1;33m\u001b[0m\u001b[1;33m\u001b[0m\u001b[0m\n\u001b[1;32m----> 2\u001b[1;33m     \u001b[0mresult\u001b[0m\u001b[1;33m=\u001b[0m\u001b[0madfuller\u001b[0m\u001b[1;33m(\u001b[0m\u001b[0mlog\u001b[0m\u001b[1;33m)\u001b[0m\u001b[1;33m\u001b[0m\u001b[1;33m\u001b[0m\u001b[0m\n\u001b[0m\u001b[0;32m      3\u001b[0m     \u001b[0mlabels\u001b[0m\u001b[1;33m=\u001b[0m\u001b[1;33m[\u001b[0m\u001b[1;34m'A test statistics'\u001b[0m\u001b[1;33m,\u001b[0m \u001b[1;34m'p-value'\u001b[0m\u001b[1;33m,\u001b[0m \u001b[1;34m'#lagused'\u001b[0m\u001b[1;33m,\u001b[0m \u001b[1;34m'no of observations used'\u001b[0m\u001b[1;33m]\u001b[0m\u001b[1;33m\u001b[0m\u001b[1;33m\u001b[0m\u001b[0m\n\u001b[0;32m      4\u001b[0m     \u001b[1;32mfor\u001b[0m \u001b[0mvalue\u001b[0m\u001b[1;33m,\u001b[0m \u001b[0mlabels\u001b[0m \u001b[1;32min\u001b[0m \u001b[0mzip\u001b[0m \u001b[1;33m(\u001b[0m\u001b[0mresult\u001b[0m\u001b[1;33m,\u001b[0m\u001b[0mlabels\u001b[0m\u001b[1;33m)\u001b[0m\u001b[1;33m:\u001b[0m\u001b[1;33m\u001b[0m\u001b[1;33m\u001b[0m\u001b[0m\n\u001b[0;32m      5\u001b[0m         \u001b[0mprint\u001b[0m\u001b[1;33m(\u001b[0m\u001b[0mlabel\u001b[0m\u001b[1;33m+\u001b[0m\u001b[1;34m':'\u001b[0m\u001b[1;33m+\u001b[0m \u001b[0mstr\u001b[0m\u001b[1;33m(\u001b[0m\u001b[0mvalues\u001b[0m\u001b[1;33m)\u001b[0m\u001b[1;33m)\u001b[0m\u001b[1;33m\u001b[0m\u001b[1;33m\u001b[0m\u001b[0m\n",
      "\u001b[1;31mTypeError\u001b[0m: 'Series' object is not callable"
     ]
    }
   ],
   "source": [
    "adfuller_test(df['log'])"
   ]
  },
  {
   "cell_type": "code",
   "execution_count": 92,
   "metadata": {},
   "outputs": [
    {
     "data": {
      "text/plain": [
       "Date\n",
       "2019-02-21 00:14:21                            NaN\n",
       "2019-02-21 00:27:25    16384:3276:8:0.00:0.00:100G\n",
       "2019-02-21 00:40:20    16384:3275:8:0.00:0.00:100G\n",
       "2019-02-21 00:53:11    16384:3276:8:0.00:0.00:100G\n",
       "2019-02-21 01:06:08    16384:3276:8:0.00:0.00:100G\n",
       "                                  ...             \n",
       "2019-03-14 13:58:41    16384:3275:8:0.00:0.00:100G\n",
       "2019-03-14 14:13:02    16384:3276:8:0.00:0.00:100G\n",
       "2019-03-14 14:27:49    16384:3276:8:0.00:0.00:100G\n",
       "2019-03-14 14:41:40    16384:3275:8:0.00:0.00:100G\n",
       "2019-03-14 14:55:51    16384:3276:8:0.00:0.00:100G\n",
       "Name: log, Length: 2157, dtype: object"
      ]
     },
     "execution_count": 92,
     "metadata": {},
     "output_type": "execute_result"
    }
   ],
   "source": [
    "#differencing\n",
    "\n",
    "df['log'].shift(1)"
   ]
  },
  {
   "cell_type": "code",
   "execution_count": 93,
   "metadata": {},
   "outputs": [
    {
     "ename": "ModuleNotFoundError",
     "evalue": "No module named 'pandas.tools'",
     "output_type": "error",
     "traceback": [
      "\u001b[1;31m---------------------------------------------------------------------------\u001b[0m",
      "\u001b[1;31mModuleNotFoundError\u001b[0m                       Traceback (most recent call last)",
      "\u001b[1;32m<ipython-input-93-1214e2f7dc37>\u001b[0m in \u001b[0;36m<module>\u001b[1;34m\u001b[0m\n\u001b[1;32m----> 1\u001b[1;33m \u001b[1;32mfrom\u001b[0m \u001b[0mpandas\u001b[0m\u001b[1;33m.\u001b[0m\u001b[0mtools\u001b[0m\u001b[1;33m.\u001b[0m\u001b[0mplotting\u001b[0m \u001b[1;32mimport\u001b[0m \u001b[0mautocorrelation_plot\u001b[0m\u001b[1;33m\u001b[0m\u001b[1;33m\u001b[0m\u001b[0m\n\u001b[0m\u001b[0;32m      2\u001b[0m \u001b[0mautocorrelation_plot\u001b[0m\u001b[1;33m(\u001b[0m\u001b[0mdf\u001b[0m\u001b[1;33m[\u001b[0m\u001b[1;34m'log'\u001b[0m\u001b[1;33m]\u001b[0m\u001b[1;33m)\u001b[0m\u001b[1;33m\u001b[0m\u001b[1;33m\u001b[0m\u001b[0m\n\u001b[0;32m      3\u001b[0m \u001b[0mplt\u001b[0m\u001b[1;33m.\u001b[0m\u001b[0mshow\u001b[0m\u001b[1;33m(\u001b[0m\u001b[1;33m)\u001b[0m\u001b[1;33m\u001b[0m\u001b[1;33m\u001b[0m\u001b[0m\n",
      "\u001b[1;31mModuleNotFoundError\u001b[0m: No module named 'pandas.tools'"
     ]
    }
   ],
   "source": [
    "from pandas.tools.plotting import autocorrelation_plot\n",
    "autocorrelation_plot(df['log'])\n",
    "plt.show()"
   ]
  },
  {
   "cell_type": "code",
   "execution_count": 95,
   "metadata": {},
   "outputs": [],
   "source": [
    "from statsmodels.tsa.arima_model import ARIMA"
   ]
  },
  {
   "cell_type": "code",
   "execution_count": null,
   "metadata": {},
   "outputs": [],
   "source": [
    "model= ARIMA (df['log'], order=(1,1,1))\n",
    "model_fit = model.fit()"
   ]
  },
  {
   "cell_type": "code",
   "execution_count": 102,
   "metadata": {},
   "outputs": [
    {
     "ename": "NameError",
     "evalue": "name 'model_fit' is not defined",
     "output_type": "error",
     "traceback": [
      "\u001b[1;31m---------------------------------------------------------------------------\u001b[0m",
      "\u001b[1;31mNameError\u001b[0m                                 Traceback (most recent call last)",
      "\u001b[1;32m<ipython-input-102-3f355fc47e11>\u001b[0m in \u001b[0;36m<module>\u001b[1;34m\u001b[0m\n\u001b[1;32m----> 1\u001b[1;33m \u001b[0mmodel_fit\u001b[0m\u001b[1;33m.\u001b[0m\u001b[0msummary\u001b[0m\u001b[1;33m(\u001b[0m\u001b[1;33m)\u001b[0m\u001b[1;33m\u001b[0m\u001b[1;33m\u001b[0m\u001b[0m\n\u001b[0m",
      "\u001b[1;31mNameError\u001b[0m: name 'model_fit' is not defined"
     ]
    }
   ],
   "source": [
    "model_fit.summary()"
   ]
  },
  {
   "cell_type": "code",
   "execution_count": null,
   "metadata": {},
   "outputs": [],
   "source": []
  }
 ],
 "metadata": {
  "kernelspec": {
   "display_name": "Python 3",
   "language": "python",
   "name": "python3"
  },
  "language_info": {
   "codemirror_mode": {
    "name": "ipython",
    "version": 3
   },
   "file_extension": ".py",
   "mimetype": "text/x-python",
   "name": "python",
   "nbconvert_exporter": "python",
   "pygments_lexer": "ipython3",
   "version": "3.8.5"
  }
 },
 "nbformat": 4,
 "nbformat_minor": 4
}
